{
 "cells": [
  {
   "cell_type": "code",
   "execution_count": 1,
   "metadata": {},
   "outputs": [],
   "source": [
    "def Shinethrough(df, k):\n",
    "    df=df.groupby('classifier').head(k)   \n",
    "    df = df.loc[(df['true_label'] == 1) & (df['pred_label'] == 1)] #To keep only TP entries and remove rest\n",
    "    df.drop(columns = ['pred_label','true_label'])\n",
    "    #calculate total number of total unique TP found by all classifiers\n",
    "    total_unique_TP = len(pd.unique(df['Instance ID']))\n",
    "    \n",
    "    ###############################################################################################################\n",
    "    #No of unique classifiers\n",
    "    un_class = df['classifier'].unique()\n",
    "    un_class = sorted(un_class)\n",
    "    data =[]\n",
    "    column_names = ['x_axis', 'y_axis']\n",
    "\n",
    "    #create pairs of classifiers to form a dataframe\n",
    "    for i in range(len(un_class)):\n",
    "        for j in range(len(un_class)):\n",
    "            if i!=j:\n",
    "                new_ele = (un_class[i],un_class[j])\n",
    "                data.append(new_ele)\n",
    "                \n",
    "    #Dataframe df_all contains count of total unique True positives\n",
    "    df_all = pd.DataFrame.from_records(\n",
    "        data, columns=column_names)\n",
    "    df_all['count'] = total_unique_TP\n",
    "    \n",
    "    ###############################################################################################################\n",
    "    #df_unique_ID contains all the unique True positive reviews(ID)\n",
    "    df_uni = pd.DataFrame.from_records(data, columns=column_names)\n",
    "    names=df['classifier'].unique().tolist()\n",
    "    df_unique_ID = pd.DataFrame()\n",
    "    for name1 in names:\n",
    "        df_1 = df.loc[df.classifier==name1] \n",
    "        for name2 in names:\n",
    "            if name1 != name2:\n",
    "                df_2 = df.loc[df.classifier==name2]\n",
    "                df_1 = df_1[~df_1['Instance ID'].isin(df_2['Instance ID'])]\n",
    "\n",
    "        df_unique_ID=df_unique_ID.append(df_1)\n",
    "    df_unique_ID = df_unique_ID.drop(columns = ['pred_label','true_label'])  \n",
    "\n",
    "    #df_uni contains count of unique ID's of classifier on y axis\n",
    "    for name in names:\n",
    "        df_1 = df_unique_ID.loc[df_unique_ID.classifier==name] \n",
    "        df_uni.loc[df_uni['y_axis'] == name, 'count'] = len(df_1.index)\n",
    "    \n",
    "    ###############################################################################################################\n",
    "    #create df_twin containing total unique TP found by classifier on x-axis and y-axis\n",
    "    df_twin = pd.DataFrame.from_records(data, columns=column_names)\n",
    "    names=df['classifier'].unique().tolist()\n",
    "    for name1 in names:\n",
    "        df_1 = df.loc[df.classifier==name1] \n",
    "        for name2 in names:\n",
    "            if name1 != name2:\n",
    "                df_2 = df.loc[df.classifier==name2]\n",
    "                df_two = df_1.append(df_2)\n",
    "                for name in names:\n",
    "                    if name !=name1 and name !=name2:\n",
    "                        df_3 = df.loc[df.classifier==name] \n",
    "                        df_two = df_two[~df_two['Instance ID'].isin(df_3['Instance ID'])]\n",
    "                        n = len(pd.unique(df_two['Instance ID']))\n",
    "                        df_twin.loc[(df_twin['x_axis'] == name1) & (df_twin['y_axis'] == name2), 'common'] = n\n",
    "    df_twin = df_twin.rename(columns={'common': 'count'})\n",
    "    \n",
    "    ###############################################################################################################\n",
    "    #shineThrough scores calculations\n",
    "    def trim_fraction(text):\n",
    "        text = str(text)\n",
    "        sep='.'\n",
    "        stripped = text.split(sep, 1)[0]\n",
    "        return stripped \n",
    "\n",
    "    df_shine_scores =df_uni.drop(columns = ['count'])\n",
    "    df_shine_scores['shine_score1'] = df_uni['count'].apply(trim_fraction)\n",
    "    df_shine_scores['shine_score2'] = total_unique_TP\n",
    "    df_shine_scores['shine_score2'] = df_shine_scores['shine_score2'].apply(trim_fraction)\n",
    "    df_shine_scores['shine_score3'] = df_twin['count'].apply(trim_fraction)\n",
    "    df_shine_scores['shine_score4'] = total_unique_TP\n",
    "    df_shine_scores['shine_score4'] = df_shine_scores['shine_score4'].apply(trim_fraction)\n",
    "\n",
    "    df_shine_scores['shine_score'] = df_shine_scores['shine_score1'].astype(str)+'/'+df_shine_scores['shine_score2'].astype(str) +' | '+df_shine_scores['shine_score3'].astype(str)+'/'+df_shine_scores['shine_score4'].astype(str)\n",
    "    df_shine_scores['shine_score'] = df_shine_scores['shine_score'].fillna(0)\n",
    "    print(\"ShineThrough Scores(Count of Exclusive True Positives)\")\n",
    "    df_shine_scores = df_shine_scores.pivot(index=\"y_axis\", columns=\"x_axis\", values=\"shine_score\").fillna(value = '-')\n",
    "    df_shine_scores= df_shine_scores.style.set_properties(**{'text-align': 'center'})\n",
    "    df_shine_scores = df_shine_scores.set_table_styles([dict(selector='th', props=[('text-align', 'center')])])\n",
    "    display(df_shine_scores)\n",
    "    print(\"\\n\")\n",
    "    print(\"\\n\")\n",
    "    \n",
    "    ###############################################################################################################\n",
    "    #shineThrough metric calculations\n",
    "    def trim_fraction_(text):\n",
    "        text = str(text)\n",
    "        sep='.00'\n",
    "        stripped = text.split(sep, 1)[0]\n",
    "        return stripped  \n",
    "    \n",
    "    df_shine_metric = df_uni.drop(columns = ['count'])\n",
    "    df_shine_metric['shine_score1'] = df_uni['count']/total_unique_TP\n",
    "    df_shine_metric['shine_score2'] = df_twin['count']/total_unique_TP\n",
    "    df_shine_metric = df_shine_metric.round(2)\n",
    "    df_shine_metric['shine_score1'] = df_shine_metric['shine_score1'].apply(trim_fraction_)\n",
    "    df_shine_metric['shine_score2'] = df_shine_metric['shine_score2'].apply(trim_fraction_)\n",
    "    df_shine_metric['shine_score'] = df_shine_metric['shine_score1'].astype(str)+' | '+df_shine_metric['shine_score2'].astype(str)\n",
    "    print(\"ShineThrough Metric\")\n",
    "    df_shine_metric= df_shine_metric.pivot(index=\"y_axis\", columns=\"x_axis\", values=\"shine_score\").fillna(value = '-')\n",
    "    df_shine_metric= df_shine_metric.style.set_properties(**{'text-align': 'center'})\n",
    "    df_shine_metric = df_shine_metric.set_table_styles([dict(selector='th', props=[('text-align', 'center')])])\n",
    "    display(df_shine_metric) \n",
    "    print(\"\\n\")\n",
    "    print(\"\\n\")\n",
    "    \n",
    "    ###############################################################################################################\n",
    "    #Plotting bubble chart\n",
    "    #Creating blank dataframe for plotting chart in order\n",
    "    data1=[]\n",
    "    for i in range(len(un_class)):\n",
    "        for j in range(len(un_class)-1, -1, -1):\n",
    "            new_ele = (un_class[i],un_class[j])\n",
    "            data1.append(new_ele)\n",
    "                #data.append(new_ele)\n",
    "\n",
    "    df_blank = pd.DataFrame.from_records(\n",
    "        data1, columns=column_names)\n",
    "    df_blank['count'] =0\n",
    "\n",
    "    df_twin = df_twin.sort_values(by =['count'],ascending=False)\n",
    "    df_twin = df_blank.append(df_twin)\n",
    "    #\n",
    "    df_twin['size']=df_twin['count']*df_twin['count']\n",
    "    df_twin['Color Significance']='Exclusive TP found by classifier on x & y axis'\n",
    "    df_uni['size']=df_uni['count']*df_uni['count']\n",
    "    df_uni['Color Significance']='Exclusive TP found by classifier on y axis'\n",
    "    df_final = df_twin.append(df_uni)\n",
    "\n",
    "    fig=px.scatter(df_final, x=\"x_axis\", y=\"y_axis\",\n",
    "               color_discrete_sequence=px.colors.qualitative.Alphabet,\n",
    "               color = 'Color Significance',\n",
    "               size='size',opacity=0.6,size_max=70,\n",
    "               color_discrete_map={\"Exclusive TP found by classifier on x & y axis\": 'orange',\"Exclusive TP found by classifier on y axis\":'yellow'},hover_data=['Color Significance'],\n",
    "              )\n",
    "\n",
    "    fig.update_layout(\n",
    "        width=1000,\n",
    "        height=600\n",
    "    )\n",
    "    fig.update_layout(\n",
    "        xaxis={'side': 'top'}, \n",
    "        yaxis={'side': 'left'}  \n",
    "    )\n",
    "    fig.update_layout(legend=dict(\n",
    "        orientation=\"h\",\n",
    "        yanchor=\"top\",\n",
    "        y=0,\n",
    "        xanchor=\"left\",\n",
    "        x=0.1\n",
    "    ))\n",
    "    fig.update_layout(title_text='MARS ShineThrough Chart', title_x=0.05)\n",
    "    fig.show()"
   ]
  },
  {
   "cell_type": "code",
   "execution_count": 2,
   "metadata": {},
   "outputs": [],
   "source": [
    "def Occlusion(df, k):\n",
    "    df=df.groupby('classifier').head(k)\n",
    "    df_tp = df.loc[(df['true_label'] == 1) & (df['pred_label'] == 1)]\n",
    "    df_fn = df.loc[(df['true_label'] == 1) & (df['pred_label'] == 0)]\n",
    "\n",
    "    #calculate total number of total unique TP found by all classifiers\n",
    "    total_unique_TP = len(pd.unique(df_tp['Instance ID']))\n",
    "\n",
    "    un_class = df['classifier'].unique()\n",
    "    un_class = sorted(un_class)\n",
    "    data =[]\n",
    "    column_names = ['x_axis', 'y_axis']   \n",
    "    #create pairs of classifiers\n",
    "    for i in range(len(un_class)):\n",
    "        for j in range(len(un_class)):\n",
    "            if i!=j:\n",
    "                new_ele = (un_class[i],un_class[j])\n",
    "                data.append(new_ele)\n",
    "                \n",
    "    #df_all contains total number of unique True positives\n",
    "    df_all = pd.DataFrame.from_records(data, columns=column_names)\n",
    "    df_all['count'] = total_unique_TP\n",
    "    \n",
    "    df_fn_twin = pd.DataFrame.from_records(data, columns=column_names)\n",
    "\n",
    "    df_fn_unique1 = pd.DataFrame.from_records(data, columns=column_names)\n",
    "\n",
    "\n",
    "\n",
    "    names=df['classifier'].unique().tolist()\n",
    "    df_fn_unique = pd.DataFrame()\n",
    "    for name1 in names:\n",
    "        df_1 = df_fn.loc[df_fn.classifier==name1] \n",
    "        df_1 = df_1[df_1['Instance ID'].isin(df_tp['Instance ID'])]\n",
    "        df_fn_unique=df_fn_unique.append(df_1)\n",
    "        \n",
    "    ###############################################################################################################\n",
    "    #Unique FN for that classifier relative to the TP of all the classifiers\n",
    "    df_fn_unique = df_fn_unique.drop(columns = ['pred_label','true_label'])  \n",
    "\n",
    "    for name in names:\n",
    "        df_1 = df_fn_unique.loc[df_fn_unique.classifier==name] \n",
    "        df_fn_unique1.loc[df_fn_unique1['y_axis'] == name, 'count'] = len(df_1.index)\n",
    "\n",
    "    for name1 in names:\n",
    "        df_1 = df_fn.loc[df_fn.classifier==name1] \n",
    "        df_1_tp = df_tp.loc[df_tp.classifier==name1]\n",
    "        for name2 in names:\n",
    "            if name1 != name2:           \n",
    "                df_2 = df_fn.loc[df_fn.classifier==name2]\n",
    "                df_2_tp = df_tp.loc[df_tp.classifier==name2]\n",
    "                df_1 = df_1[~df_1['Instance ID'].isin(df_2_tp['Instance ID'])]\n",
    "                df_2 = df_2[~df_2['Instance ID'].isin(df_1_tp['Instance ID'])]\n",
    "\n",
    "                df_2 = df_2.append(df_1)\n",
    "                df_2 = df_2.drop_duplicates(subset='Instance ID', keep=\"last\")\n",
    "                df_temp = pd.DataFrame()\n",
    "                for name3 in names:\n",
    "                    if name3 != name1 and name3 != name2:\n",
    "                        df_3 = df_tp.loc[df_tp.classifier==name3]\n",
    "                        df_temp = df_temp.append(df_2[df_2['Instance ID'].isin(df_3['Instance ID'])])\n",
    "                        df_temp = df_temp.drop_duplicates(subset='Instance ID', keep=\"last\")\n",
    "                df_fn_twin.loc[(df_fn_twin['y_axis'] == name1) & (df_fn_twin['x_axis'] == name2), 'common'] = len(df_temp.index)\n",
    "                                                                                                                                          \n",
    "    df_fn_twin = df_fn_twin.rename(columns={'common': 'count'})\n",
    "    \n",
    "    ###############################################################################################################\n",
    "    #created blank dataframe to arrange classifiers in order for plot\n",
    "    data1=[]\n",
    "   \n",
    "    for i in range(len(un_class)):\n",
    "        for j in range(len(un_class)-1, -1, -1):\n",
    "            new_ele = (un_class[i],un_class[j])\n",
    "            data1.append(new_ele)\n",
    "\n",
    "    df_blank = pd.DataFrame.from_records(data1, columns=column_names)\n",
    "    df_blank['count'] =0\n",
    "    \n",
    "    ###############################################################################################################\n",
    "    #Occlusion scores calculations\n",
    "    def trim_fraction(text):\n",
    "        text = str(text)\n",
    "        sep='.'\n",
    "        stripped = text.split(sep, 1)[0]\n",
    "        return stripped\n",
    "    df_occ_scores =df_fn_unique1.drop(columns = ['count'])\n",
    "    df_occ_scores['occ_score1'] = df_fn_unique1['count']\n",
    "    df_occ_scores['occ_score2'] = total_unique_TP\n",
    "    df_occ_scores['occ_score3'] = df_fn_twin['count']\n",
    "    df_occ_scores['occ_score4'] = total_unique_TP\n",
    "\n",
    "    df_occ_scores['occ_score1'] = df_occ_scores['occ_score1'].apply(trim_fraction)\n",
    "    df_occ_scores['occ_score2'] = df_occ_scores['occ_score2'].apply(trim_fraction)\n",
    "    df_occ_scores['occ_score3'] = df_occ_scores['occ_score3'].apply(trim_fraction)\n",
    "    df_occ_scores['occ_score4'] = df_occ_scores['occ_score4'].apply(trim_fraction)\n",
    "\n",
    "    df_occ_scores['occ_score'] = df_occ_scores['occ_score1'].astype(str)+'/'+df_occ_scores['occ_score2'].astype(str) +' | '+df_occ_scores['occ_score3'].astype(str)+'/'+df_occ_scores['occ_score4'].astype(str)\n",
    "    df_occ_scores['occ_score'] = df_occ_scores['occ_score'].fillna(0)\n",
    "    print(\"Occlusion Scores(Count of Exclusive False Negatives)\")\n",
    "    df_occ_scores = df_occ_scores.pivot(index=\"y_axis\", columns=\"x_axis\", values=\"occ_score\").fillna(value = '-')\n",
    "    df_occ_scores= df_occ_scores.style.set_properties(**{'text-align': 'center'})\n",
    "    df_occ_scores = df_occ_scores.set_table_styles([dict(selector='th', props=[('text-align', 'center')])])\n",
    "    display(df_occ_scores)\n",
    "    print(\"\\n\")\n",
    "    print(\"\\n\")\n",
    "    ###############################################################################################################\n",
    "    #Occlusion metric calculations\n",
    "    def trim_fraction_(text):\n",
    "        text = str(text)\n",
    "        sep='.00'\n",
    "        stripped = text.split(sep, 1)[0]\n",
    "        return stripped\n",
    "    df_occ_metric =df_fn_unique1.drop(columns = ['count'])\n",
    "    df_occ_metric['occ_score1'] = df_fn_unique1['count']/total_unique_TP\n",
    "    df_occ_metric['occ_score2'] = df_fn_twin['count']/total_unique_TP\n",
    "    df_occ_metric = df_occ_metric.round(2)\n",
    "\n",
    "    df_occ_metric['occ_score1'] = df_occ_metric['occ_score1'].apply(trim_fraction_)\n",
    "    df_occ_metric['occ_score2'] = df_occ_metric['occ_score2'].apply(trim_fraction_)\n",
    "    df_occ_metric['occ_score'] = df_occ_metric['occ_score1'].astype(str)+' | '+df_occ_metric['occ_score2'].astype(str)\n",
    "\n",
    "\n",
    "    df_occ_metric =df_occ_metric.pivot(index=\"y_axis\", columns=\"x_axis\", values=\"occ_score\").fillna(value = '-')\n",
    "    print(\"Occlusion Metric\")\n",
    "    df_occ_metric= df_occ_metric.style.set_properties(**{'text-align': 'center'})\n",
    "    df_occ_metric = df_occ_metric.set_table_styles([dict(selector='th', props=[('text-align', 'center')])])\n",
    "    display(df_occ_metric)\n",
    "    print(\"\\n\")\n",
    "    print(\"\\n\")\n",
    "    ###############################################################################################################\n",
    "\n",
    "    df_fn_unique1 = df_fn_unique1.sort_values(by =['count'],ascending=False)\n",
    "    df_fn_unique1 = df_blank.append(df_fn_unique1)\n",
    "    df_fn_unique1['size']=df_fn_unique1['count']*df_fn_unique1['count']\n",
    "    df_fn_unique1['Color Significance']='Exclusive FN missed by classifier on y axis'\n",
    "\n",
    "\n",
    "    df_fn_twin['size']=df_fn_twin['count']*df_fn_twin['count']\n",
    "    df_fn_twin['Color Significance']='Exclusive FN missed by classifier on x & y axis'\n",
    "\n",
    "    df_final = df_fn_unique1.append(df_fn_twin)\n",
    "\n",
    "    fig=px.scatter(df_final, x=\"x_axis\", y=\"y_axis\",\n",
    "               color_discrete_sequence=px.colors.qualitative.Alphabet,\n",
    "               color = 'Color Significance',\n",
    "               size='size',\n",
    "               opacity=0.6,\n",
    "               size_max=70,\n",
    "               color_discrete_map={\"Exclusive FN missed by classifier on x & y axis\": 'red',\"Exclusive FN missed by classifier on y axis\":'orange'},\n",
    "              \n",
    "              )\n",
    "    fig.update_traces(marker=dict(\n",
    "                                      line=dict(width=0.2,\n",
    "                                                color='DarkSlateGrey')),\n",
    "                         selector=dict(mode='markers'))\n",
    "    fig.update_layout(\n",
    "        width=1000,\n",
    "        height=600\n",
    "    )\n",
    "    fig.update_layout(\n",
    "        xaxis={'side': 'top'}, \n",
    "        yaxis={'side': 'left'}  \n",
    "    )\n",
    "    fig.update_layout(legend=dict(\n",
    "        orientation=\"h\",\n",
    "        yanchor=\"top\",\n",
    "        y=0,\n",
    "        xanchor=\"left\",\n",
    "        x=0.1\n",
    "    ))\n",
    "    fig.update_layout(title_text='MARS Occlusion Chart', title_x=0.05)\n",
    "\n",
    "    fig.show()\n"
   ]
  },
  {
   "cell_type": "code",
   "execution_count": 5,
   "metadata": {},
   "outputs": [
    {
     "name": "stdout",
     "output_type": "stream",
     "text": [
      "ShineThrough Scores(Count of Exclusive True Positives)\n"
     ]
    },
    {
     "data": {
      "text/html": [
       "<style  type=\"text/css\" >\n",
       "    #T_1fbb5882_53b1_11ec_9fab_3c9c0f9bad74 th {\n",
       "          text-align: center;\n",
       "    }#T_1fbb5882_53b1_11ec_9fab_3c9c0f9bad74row0_col0,#T_1fbb5882_53b1_11ec_9fab_3c9c0f9bad74row0_col1,#T_1fbb5882_53b1_11ec_9fab_3c9c0f9bad74row0_col2,#T_1fbb5882_53b1_11ec_9fab_3c9c0f9bad74row0_col3,#T_1fbb5882_53b1_11ec_9fab_3c9c0f9bad74row1_col0,#T_1fbb5882_53b1_11ec_9fab_3c9c0f9bad74row1_col1,#T_1fbb5882_53b1_11ec_9fab_3c9c0f9bad74row1_col2,#T_1fbb5882_53b1_11ec_9fab_3c9c0f9bad74row1_col3,#T_1fbb5882_53b1_11ec_9fab_3c9c0f9bad74row2_col0,#T_1fbb5882_53b1_11ec_9fab_3c9c0f9bad74row2_col1,#T_1fbb5882_53b1_11ec_9fab_3c9c0f9bad74row2_col2,#T_1fbb5882_53b1_11ec_9fab_3c9c0f9bad74row2_col3,#T_1fbb5882_53b1_11ec_9fab_3c9c0f9bad74row3_col0,#T_1fbb5882_53b1_11ec_9fab_3c9c0f9bad74row3_col1,#T_1fbb5882_53b1_11ec_9fab_3c9c0f9bad74row3_col2,#T_1fbb5882_53b1_11ec_9fab_3c9c0f9bad74row3_col3{\n",
       "            text-align:  center;\n",
       "        }</style><table id=\"T_1fbb5882_53b1_11ec_9fab_3c9c0f9bad74\" ><thead>    <tr>        <th class=\"index_name level0\" >x_axis</th>        <th class=\"col_heading level0 col0\" >DecisionTree</th>        <th class=\"col_heading level0 col1\" >LogisticRegression</th>        <th class=\"col_heading level0 col2\" >RandomForest</th>        <th class=\"col_heading level0 col3\" >SVM</th>    </tr>    <tr>        <th class=\"index_name level0\" >y_axis</th>        <th class=\"blank\" ></th>        <th class=\"blank\" ></th>        <th class=\"blank\" ></th>        <th class=\"blank\" ></th>    </tr></thead><tbody>\n",
       "                <tr>\n",
       "                        <th id=\"T_1fbb5882_53b1_11ec_9fab_3c9c0f9bad74level0_row0\" class=\"row_heading level0 row0\" >DecisionTree</th>\n",
       "                        <td id=\"T_1fbb5882_53b1_11ec_9fab_3c9c0f9bad74row0_col0\" class=\"data row0 col0\" >-</td>\n",
       "                        <td id=\"T_1fbb5882_53b1_11ec_9fab_3c9c0f9bad74row0_col1\" class=\"data row0 col1\" >1/90 | 1/90</td>\n",
       "                        <td id=\"T_1fbb5882_53b1_11ec_9fab_3c9c0f9bad74row0_col2\" class=\"data row0 col2\" >1/90 | 1/90</td>\n",
       "                        <td id=\"T_1fbb5882_53b1_11ec_9fab_3c9c0f9bad74row0_col3\" class=\"data row0 col3\" >1/90 | 3/90</td>\n",
       "            </tr>\n",
       "            <tr>\n",
       "                        <th id=\"T_1fbb5882_53b1_11ec_9fab_3c9c0f9bad74level0_row1\" class=\"row_heading level0 row1\" >LogisticRegression</th>\n",
       "                        <td id=\"T_1fbb5882_53b1_11ec_9fab_3c9c0f9bad74row1_col0\" class=\"data row1 col0\" >0/90 | 1/90</td>\n",
       "                        <td id=\"T_1fbb5882_53b1_11ec_9fab_3c9c0f9bad74row1_col1\" class=\"data row1 col1\" >-</td>\n",
       "                        <td id=\"T_1fbb5882_53b1_11ec_9fab_3c9c0f9bad74row1_col2\" class=\"data row1 col2\" >0/90 | 1/90</td>\n",
       "                        <td id=\"T_1fbb5882_53b1_11ec_9fab_3c9c0f9bad74row1_col3\" class=\"data row1 col3\" >0/90 | 2/90</td>\n",
       "            </tr>\n",
       "            <tr>\n",
       "                        <th id=\"T_1fbb5882_53b1_11ec_9fab_3c9c0f9bad74level0_row2\" class=\"row_heading level0 row2\" >RandomForest</th>\n",
       "                        <td id=\"T_1fbb5882_53b1_11ec_9fab_3c9c0f9bad74row2_col0\" class=\"data row2 col0\" >0/90 | 1/90</td>\n",
       "                        <td id=\"T_1fbb5882_53b1_11ec_9fab_3c9c0f9bad74row2_col1\" class=\"data row2 col1\" >0/90 | 1/90</td>\n",
       "                        <td id=\"T_1fbb5882_53b1_11ec_9fab_3c9c0f9bad74row2_col2\" class=\"data row2 col2\" >-</td>\n",
       "                        <td id=\"T_1fbb5882_53b1_11ec_9fab_3c9c0f9bad74row2_col3\" class=\"data row2 col3\" >0/90 | 4/90</td>\n",
       "            </tr>\n",
       "            <tr>\n",
       "                        <th id=\"T_1fbb5882_53b1_11ec_9fab_3c9c0f9bad74level0_row3\" class=\"row_heading level0 row3\" >SVM</th>\n",
       "                        <td id=\"T_1fbb5882_53b1_11ec_9fab_3c9c0f9bad74row3_col0\" class=\"data row3 col0\" >2/90 | 3/90</td>\n",
       "                        <td id=\"T_1fbb5882_53b1_11ec_9fab_3c9c0f9bad74row3_col1\" class=\"data row3 col1\" >2/90 | 2/90</td>\n",
       "                        <td id=\"T_1fbb5882_53b1_11ec_9fab_3c9c0f9bad74row3_col2\" class=\"data row3 col2\" >2/90 | 4/90</td>\n",
       "                        <td id=\"T_1fbb5882_53b1_11ec_9fab_3c9c0f9bad74row3_col3\" class=\"data row3 col3\" >-</td>\n",
       "            </tr>\n",
       "    </tbody></table>"
      ],
      "text/plain": [
       "<pandas.io.formats.style.Styler at 0x187af18a6a0>"
      ]
     },
     "metadata": {},
     "output_type": "display_data"
    },
    {
     "name": "stdout",
     "output_type": "stream",
     "text": [
      "\n",
      "\n",
      "\n",
      "\n",
      "ShineThrough Metric\n"
     ]
    },
    {
     "data": {
      "text/html": [
       "<style  type=\"text/css\" >\n",
       "    #T_1fbf322b_53b1_11ec_a4d4_3c9c0f9bad74 th {\n",
       "          text-align: center;\n",
       "    }#T_1fbf322b_53b1_11ec_a4d4_3c9c0f9bad74row0_col0,#T_1fbf322b_53b1_11ec_a4d4_3c9c0f9bad74row0_col1,#T_1fbf322b_53b1_11ec_a4d4_3c9c0f9bad74row0_col2,#T_1fbf322b_53b1_11ec_a4d4_3c9c0f9bad74row0_col3,#T_1fbf322b_53b1_11ec_a4d4_3c9c0f9bad74row1_col0,#T_1fbf322b_53b1_11ec_a4d4_3c9c0f9bad74row1_col1,#T_1fbf322b_53b1_11ec_a4d4_3c9c0f9bad74row1_col2,#T_1fbf322b_53b1_11ec_a4d4_3c9c0f9bad74row1_col3,#T_1fbf322b_53b1_11ec_a4d4_3c9c0f9bad74row2_col0,#T_1fbf322b_53b1_11ec_a4d4_3c9c0f9bad74row2_col1,#T_1fbf322b_53b1_11ec_a4d4_3c9c0f9bad74row2_col2,#T_1fbf322b_53b1_11ec_a4d4_3c9c0f9bad74row2_col3,#T_1fbf322b_53b1_11ec_a4d4_3c9c0f9bad74row3_col0,#T_1fbf322b_53b1_11ec_a4d4_3c9c0f9bad74row3_col1,#T_1fbf322b_53b1_11ec_a4d4_3c9c0f9bad74row3_col2,#T_1fbf322b_53b1_11ec_a4d4_3c9c0f9bad74row3_col3{\n",
       "            text-align:  center;\n",
       "        }</style><table id=\"T_1fbf322b_53b1_11ec_a4d4_3c9c0f9bad74\" ><thead>    <tr>        <th class=\"index_name level0\" >x_axis</th>        <th class=\"col_heading level0 col0\" >DecisionTree</th>        <th class=\"col_heading level0 col1\" >LogisticRegression</th>        <th class=\"col_heading level0 col2\" >RandomForest</th>        <th class=\"col_heading level0 col3\" >SVM</th>    </tr>    <tr>        <th class=\"index_name level0\" >y_axis</th>        <th class=\"blank\" ></th>        <th class=\"blank\" ></th>        <th class=\"blank\" ></th>        <th class=\"blank\" ></th>    </tr></thead><tbody>\n",
       "                <tr>\n",
       "                        <th id=\"T_1fbf322b_53b1_11ec_a4d4_3c9c0f9bad74level0_row0\" class=\"row_heading level0 row0\" >DecisionTree</th>\n",
       "                        <td id=\"T_1fbf322b_53b1_11ec_a4d4_3c9c0f9bad74row0_col0\" class=\"data row0 col0\" >-</td>\n",
       "                        <td id=\"T_1fbf322b_53b1_11ec_a4d4_3c9c0f9bad74row0_col1\" class=\"data row0 col1\" >0.01 | 0.01</td>\n",
       "                        <td id=\"T_1fbf322b_53b1_11ec_a4d4_3c9c0f9bad74row0_col2\" class=\"data row0 col2\" >0.01 | 0.01</td>\n",
       "                        <td id=\"T_1fbf322b_53b1_11ec_a4d4_3c9c0f9bad74row0_col3\" class=\"data row0 col3\" >0.01 | 0.03</td>\n",
       "            </tr>\n",
       "            <tr>\n",
       "                        <th id=\"T_1fbf322b_53b1_11ec_a4d4_3c9c0f9bad74level0_row1\" class=\"row_heading level0 row1\" >LogisticRegression</th>\n",
       "                        <td id=\"T_1fbf322b_53b1_11ec_a4d4_3c9c0f9bad74row1_col0\" class=\"data row1 col0\" >0.0 | 0.01</td>\n",
       "                        <td id=\"T_1fbf322b_53b1_11ec_a4d4_3c9c0f9bad74row1_col1\" class=\"data row1 col1\" >-</td>\n",
       "                        <td id=\"T_1fbf322b_53b1_11ec_a4d4_3c9c0f9bad74row1_col2\" class=\"data row1 col2\" >0.0 | 0.01</td>\n",
       "                        <td id=\"T_1fbf322b_53b1_11ec_a4d4_3c9c0f9bad74row1_col3\" class=\"data row1 col3\" >0.0 | 0.02</td>\n",
       "            </tr>\n",
       "            <tr>\n",
       "                        <th id=\"T_1fbf322b_53b1_11ec_a4d4_3c9c0f9bad74level0_row2\" class=\"row_heading level0 row2\" >RandomForest</th>\n",
       "                        <td id=\"T_1fbf322b_53b1_11ec_a4d4_3c9c0f9bad74row2_col0\" class=\"data row2 col0\" >0.0 | 0.01</td>\n",
       "                        <td id=\"T_1fbf322b_53b1_11ec_a4d4_3c9c0f9bad74row2_col1\" class=\"data row2 col1\" >0.0 | 0.01</td>\n",
       "                        <td id=\"T_1fbf322b_53b1_11ec_a4d4_3c9c0f9bad74row2_col2\" class=\"data row2 col2\" >-</td>\n",
       "                        <td id=\"T_1fbf322b_53b1_11ec_a4d4_3c9c0f9bad74row2_col3\" class=\"data row2 col3\" >0.0 | 0.04</td>\n",
       "            </tr>\n",
       "            <tr>\n",
       "                        <th id=\"T_1fbf322b_53b1_11ec_a4d4_3c9c0f9bad74level0_row3\" class=\"row_heading level0 row3\" >SVM</th>\n",
       "                        <td id=\"T_1fbf322b_53b1_11ec_a4d4_3c9c0f9bad74row3_col0\" class=\"data row3 col0\" >0.02 | 0.03</td>\n",
       "                        <td id=\"T_1fbf322b_53b1_11ec_a4d4_3c9c0f9bad74row3_col1\" class=\"data row3 col1\" >0.02 | 0.02</td>\n",
       "                        <td id=\"T_1fbf322b_53b1_11ec_a4d4_3c9c0f9bad74row3_col2\" class=\"data row3 col2\" >0.02 | 0.04</td>\n",
       "                        <td id=\"T_1fbf322b_53b1_11ec_a4d4_3c9c0f9bad74row3_col3\" class=\"data row3 col3\" >-</td>\n",
       "            </tr>\n",
       "    </tbody></table>"
      ],
      "text/plain": [
       "<pandas.io.formats.style.Styler at 0x187af191a60>"
      ]
     },
     "metadata": {},
     "output_type": "display_data"
    },
    {
     "name": "stdout",
     "output_type": "stream",
     "text": [
      "\n",
      "\n",
      "\n",
      "\n"
     ]
    },
    {
     "data": {
      "application/vnd.plotly.v1+json": {
       "config": {
        "plotlyServerURL": "https://plot.ly"
       },
       "data": [
        {
         "customdata": [
          [
           "Exclusive TP found by classifier on x & y axis"
          ],
          [
           "Exclusive TP found by classifier on x & y axis"
          ],
          [
           "Exclusive TP found by classifier on x & y axis"
          ],
          [
           "Exclusive TP found by classifier on x & y axis"
          ],
          [
           "Exclusive TP found by classifier on x & y axis"
          ],
          [
           "Exclusive TP found by classifier on x & y axis"
          ],
          [
           "Exclusive TP found by classifier on x & y axis"
          ],
          [
           "Exclusive TP found by classifier on x & y axis"
          ],
          [
           "Exclusive TP found by classifier on x & y axis"
          ],
          [
           "Exclusive TP found by classifier on x & y axis"
          ],
          [
           "Exclusive TP found by classifier on x & y axis"
          ],
          [
           "Exclusive TP found by classifier on x & y axis"
          ],
          [
           "Exclusive TP found by classifier on x & y axis"
          ],
          [
           "Exclusive TP found by classifier on x & y axis"
          ],
          [
           "Exclusive TP found by classifier on x & y axis"
          ],
          [
           "Exclusive TP found by classifier on x & y axis"
          ],
          [
           "Exclusive TP found by classifier on x & y axis"
          ],
          [
           "Exclusive TP found by classifier on x & y axis"
          ],
          [
           "Exclusive TP found by classifier on x & y axis"
          ],
          [
           "Exclusive TP found by classifier on x & y axis"
          ],
          [
           "Exclusive TP found by classifier on x & y axis"
          ],
          [
           "Exclusive TP found by classifier on x & y axis"
          ],
          [
           "Exclusive TP found by classifier on x & y axis"
          ],
          [
           "Exclusive TP found by classifier on x & y axis"
          ],
          [
           "Exclusive TP found by classifier on x & y axis"
          ],
          [
           "Exclusive TP found by classifier on x & y axis"
          ],
          [
           "Exclusive TP found by classifier on x & y axis"
          ],
          [
           "Exclusive TP found by classifier on x & y axis"
          ]
         ],
         "hovertemplate": "Color Significance=%{customdata[0]}<br>x_axis=%{x}<br>y_axis=%{y}<br>size=%{marker.size}<extra></extra>",
         "legendgroup": "Exclusive TP found by classifier on x & y axis",
         "marker": {
          "color": "orange",
          "opacity": 0.6,
          "size": [
           0,
           0,
           0,
           0,
           0,
           0,
           0,
           0,
           0,
           0,
           0,
           0,
           0,
           0,
           0,
           0,
           16,
           16,
           9,
           9,
           4,
           4,
           1,
           1,
           1,
           1,
           1,
           1
          ],
          "sizemode": "area",
          "sizeref": 0.0032653061224489797,
          "symbol": "circle"
         },
         "mode": "markers",
         "name": "Exclusive TP found by classifier on x & y axis",
         "orientation": "v",
         "showlegend": true,
         "type": "scatter",
         "x": [
          "DecisionTree",
          "DecisionTree",
          "DecisionTree",
          "DecisionTree",
          "LogisticRegression",
          "LogisticRegression",
          "LogisticRegression",
          "LogisticRegression",
          "RandomForest",
          "RandomForest",
          "RandomForest",
          "RandomForest",
          "SVM",
          "SVM",
          "SVM",
          "SVM",
          "RandomForest",
          "SVM",
          "DecisionTree",
          "SVM",
          "LogisticRegression",
          "SVM",
          "DecisionTree",
          "DecisionTree",
          "LogisticRegression",
          "LogisticRegression",
          "RandomForest",
          "RandomForest"
         ],
         "xaxis": "x",
         "y": [
          "SVM",
          "RandomForest",
          "LogisticRegression",
          "DecisionTree",
          "SVM",
          "RandomForest",
          "LogisticRegression",
          "DecisionTree",
          "SVM",
          "RandomForest",
          "LogisticRegression",
          "DecisionTree",
          "SVM",
          "RandomForest",
          "LogisticRegression",
          "DecisionTree",
          "SVM",
          "RandomForest",
          "SVM",
          "DecisionTree",
          "SVM",
          "LogisticRegression",
          "LogisticRegression",
          "RandomForest",
          "DecisionTree",
          "RandomForest",
          "DecisionTree",
          "LogisticRegression"
         ],
         "yaxis": "y"
        },
        {
         "customdata": [
          [
           "Exclusive TP found by classifier on y axis"
          ],
          [
           "Exclusive TP found by classifier on y axis"
          ],
          [
           "Exclusive TP found by classifier on y axis"
          ],
          [
           "Exclusive TP found by classifier on y axis"
          ],
          [
           "Exclusive TP found by classifier on y axis"
          ],
          [
           "Exclusive TP found by classifier on y axis"
          ],
          [
           "Exclusive TP found by classifier on y axis"
          ],
          [
           "Exclusive TP found by classifier on y axis"
          ],
          [
           "Exclusive TP found by classifier on y axis"
          ],
          [
           "Exclusive TP found by classifier on y axis"
          ],
          [
           "Exclusive TP found by classifier on y axis"
          ],
          [
           "Exclusive TP found by classifier on y axis"
          ]
         ],
         "hovertemplate": "Color Significance=%{customdata[0]}<br>x_axis=%{x}<br>y_axis=%{y}<br>size=%{marker.size}<extra></extra>",
         "legendgroup": "Exclusive TP found by classifier on y axis",
         "marker": {
          "color": "yellow",
          "opacity": 0.6,
          "size": [
           0,
           0,
           4,
           1,
           0,
           4,
           1,
           0,
           4,
           1,
           0,
           0
          ],
          "sizemode": "area",
          "sizeref": 0.0032653061224489797,
          "symbol": "circle"
         },
         "mode": "markers",
         "name": "Exclusive TP found by classifier on y axis",
         "orientation": "v",
         "showlegend": true,
         "type": "scatter",
         "x": [
          "DecisionTree",
          "DecisionTree",
          "DecisionTree",
          "LogisticRegression",
          "LogisticRegression",
          "LogisticRegression",
          "RandomForest",
          "RandomForest",
          "RandomForest",
          "SVM",
          "SVM",
          "SVM"
         ],
         "xaxis": "x",
         "y": [
          "LogisticRegression",
          "RandomForest",
          "SVM",
          "DecisionTree",
          "RandomForest",
          "SVM",
          "DecisionTree",
          "LogisticRegression",
          "SVM",
          "DecisionTree",
          "LogisticRegression",
          "RandomForest"
         ],
         "yaxis": "y"
        }
       ],
       "layout": {
        "height": 600,
        "legend": {
         "itemsizing": "constant",
         "orientation": "h",
         "title": {
          "text": "Color Significance"
         },
         "tracegroupgap": 0,
         "x": 0.1,
         "xanchor": "left",
         "y": 0,
         "yanchor": "top"
        },
        "margin": {
         "t": 60
        },
        "template": {
         "data": {
          "bar": [
           {
            "error_x": {
             "color": "#2a3f5f"
            },
            "error_y": {
             "color": "#2a3f5f"
            },
            "marker": {
             "line": {
              "color": "#E5ECF6",
              "width": 0.5
             },
             "pattern": {
              "fillmode": "overlay",
              "size": 10,
              "solidity": 0.2
             }
            },
            "type": "bar"
           }
          ],
          "barpolar": [
           {
            "marker": {
             "line": {
              "color": "#E5ECF6",
              "width": 0.5
             },
             "pattern": {
              "fillmode": "overlay",
              "size": 10,
              "solidity": 0.2
             }
            },
            "type": "barpolar"
           }
          ],
          "carpet": [
           {
            "aaxis": {
             "endlinecolor": "#2a3f5f",
             "gridcolor": "white",
             "linecolor": "white",
             "minorgridcolor": "white",
             "startlinecolor": "#2a3f5f"
            },
            "baxis": {
             "endlinecolor": "#2a3f5f",
             "gridcolor": "white",
             "linecolor": "white",
             "minorgridcolor": "white",
             "startlinecolor": "#2a3f5f"
            },
            "type": "carpet"
           }
          ],
          "choropleth": [
           {
            "colorbar": {
             "outlinewidth": 0,
             "ticks": ""
            },
            "type": "choropleth"
           }
          ],
          "contour": [
           {
            "colorbar": {
             "outlinewidth": 0,
             "ticks": ""
            },
            "colorscale": [
             [
              0,
              "#0d0887"
             ],
             [
              0.1111111111111111,
              "#46039f"
             ],
             [
              0.2222222222222222,
              "#7201a8"
             ],
             [
              0.3333333333333333,
              "#9c179e"
             ],
             [
              0.4444444444444444,
              "#bd3786"
             ],
             [
              0.5555555555555556,
              "#d8576b"
             ],
             [
              0.6666666666666666,
              "#ed7953"
             ],
             [
              0.7777777777777778,
              "#fb9f3a"
             ],
             [
              0.8888888888888888,
              "#fdca26"
             ],
             [
              1,
              "#f0f921"
             ]
            ],
            "type": "contour"
           }
          ],
          "contourcarpet": [
           {
            "colorbar": {
             "outlinewidth": 0,
             "ticks": ""
            },
            "type": "contourcarpet"
           }
          ],
          "heatmap": [
           {
            "colorbar": {
             "outlinewidth": 0,
             "ticks": ""
            },
            "colorscale": [
             [
              0,
              "#0d0887"
             ],
             [
              0.1111111111111111,
              "#46039f"
             ],
             [
              0.2222222222222222,
              "#7201a8"
             ],
             [
              0.3333333333333333,
              "#9c179e"
             ],
             [
              0.4444444444444444,
              "#bd3786"
             ],
             [
              0.5555555555555556,
              "#d8576b"
             ],
             [
              0.6666666666666666,
              "#ed7953"
             ],
             [
              0.7777777777777778,
              "#fb9f3a"
             ],
             [
              0.8888888888888888,
              "#fdca26"
             ],
             [
              1,
              "#f0f921"
             ]
            ],
            "type": "heatmap"
           }
          ],
          "heatmapgl": [
           {
            "colorbar": {
             "outlinewidth": 0,
             "ticks": ""
            },
            "colorscale": [
             [
              0,
              "#0d0887"
             ],
             [
              0.1111111111111111,
              "#46039f"
             ],
             [
              0.2222222222222222,
              "#7201a8"
             ],
             [
              0.3333333333333333,
              "#9c179e"
             ],
             [
              0.4444444444444444,
              "#bd3786"
             ],
             [
              0.5555555555555556,
              "#d8576b"
             ],
             [
              0.6666666666666666,
              "#ed7953"
             ],
             [
              0.7777777777777778,
              "#fb9f3a"
             ],
             [
              0.8888888888888888,
              "#fdca26"
             ],
             [
              1,
              "#f0f921"
             ]
            ],
            "type": "heatmapgl"
           }
          ],
          "histogram": [
           {
            "marker": {
             "pattern": {
              "fillmode": "overlay",
              "size": 10,
              "solidity": 0.2
             }
            },
            "type": "histogram"
           }
          ],
          "histogram2d": [
           {
            "colorbar": {
             "outlinewidth": 0,
             "ticks": ""
            },
            "colorscale": [
             [
              0,
              "#0d0887"
             ],
             [
              0.1111111111111111,
              "#46039f"
             ],
             [
              0.2222222222222222,
              "#7201a8"
             ],
             [
              0.3333333333333333,
              "#9c179e"
             ],
             [
              0.4444444444444444,
              "#bd3786"
             ],
             [
              0.5555555555555556,
              "#d8576b"
             ],
             [
              0.6666666666666666,
              "#ed7953"
             ],
             [
              0.7777777777777778,
              "#fb9f3a"
             ],
             [
              0.8888888888888888,
              "#fdca26"
             ],
             [
              1,
              "#f0f921"
             ]
            ],
            "type": "histogram2d"
           }
          ],
          "histogram2dcontour": [
           {
            "colorbar": {
             "outlinewidth": 0,
             "ticks": ""
            },
            "colorscale": [
             [
              0,
              "#0d0887"
             ],
             [
              0.1111111111111111,
              "#46039f"
             ],
             [
              0.2222222222222222,
              "#7201a8"
             ],
             [
              0.3333333333333333,
              "#9c179e"
             ],
             [
              0.4444444444444444,
              "#bd3786"
             ],
             [
              0.5555555555555556,
              "#d8576b"
             ],
             [
              0.6666666666666666,
              "#ed7953"
             ],
             [
              0.7777777777777778,
              "#fb9f3a"
             ],
             [
              0.8888888888888888,
              "#fdca26"
             ],
             [
              1,
              "#f0f921"
             ]
            ],
            "type": "histogram2dcontour"
           }
          ],
          "mesh3d": [
           {
            "colorbar": {
             "outlinewidth": 0,
             "ticks": ""
            },
            "type": "mesh3d"
           }
          ],
          "parcoords": [
           {
            "line": {
             "colorbar": {
              "outlinewidth": 0,
              "ticks": ""
             }
            },
            "type": "parcoords"
           }
          ],
          "pie": [
           {
            "automargin": true,
            "type": "pie"
           }
          ],
          "scatter": [
           {
            "marker": {
             "colorbar": {
              "outlinewidth": 0,
              "ticks": ""
             }
            },
            "type": "scatter"
           }
          ],
          "scatter3d": [
           {
            "line": {
             "colorbar": {
              "outlinewidth": 0,
              "ticks": ""
             }
            },
            "marker": {
             "colorbar": {
              "outlinewidth": 0,
              "ticks": ""
             }
            },
            "type": "scatter3d"
           }
          ],
          "scattercarpet": [
           {
            "marker": {
             "colorbar": {
              "outlinewidth": 0,
              "ticks": ""
             }
            },
            "type": "scattercarpet"
           }
          ],
          "scattergeo": [
           {
            "marker": {
             "colorbar": {
              "outlinewidth": 0,
              "ticks": ""
             }
            },
            "type": "scattergeo"
           }
          ],
          "scattergl": [
           {
            "marker": {
             "colorbar": {
              "outlinewidth": 0,
              "ticks": ""
             }
            },
            "type": "scattergl"
           }
          ],
          "scattermapbox": [
           {
            "marker": {
             "colorbar": {
              "outlinewidth": 0,
              "ticks": ""
             }
            },
            "type": "scattermapbox"
           }
          ],
          "scatterpolar": [
           {
            "marker": {
             "colorbar": {
              "outlinewidth": 0,
              "ticks": ""
             }
            },
            "type": "scatterpolar"
           }
          ],
          "scatterpolargl": [
           {
            "marker": {
             "colorbar": {
              "outlinewidth": 0,
              "ticks": ""
             }
            },
            "type": "scatterpolargl"
           }
          ],
          "scatterternary": [
           {
            "marker": {
             "colorbar": {
              "outlinewidth": 0,
              "ticks": ""
             }
            },
            "type": "scatterternary"
           }
          ],
          "surface": [
           {
            "colorbar": {
             "outlinewidth": 0,
             "ticks": ""
            },
            "colorscale": [
             [
              0,
              "#0d0887"
             ],
             [
              0.1111111111111111,
              "#46039f"
             ],
             [
              0.2222222222222222,
              "#7201a8"
             ],
             [
              0.3333333333333333,
              "#9c179e"
             ],
             [
              0.4444444444444444,
              "#bd3786"
             ],
             [
              0.5555555555555556,
              "#d8576b"
             ],
             [
              0.6666666666666666,
              "#ed7953"
             ],
             [
              0.7777777777777778,
              "#fb9f3a"
             ],
             [
              0.8888888888888888,
              "#fdca26"
             ],
             [
              1,
              "#f0f921"
             ]
            ],
            "type": "surface"
           }
          ],
          "table": [
           {
            "cells": {
             "fill": {
              "color": "#EBF0F8"
             },
             "line": {
              "color": "white"
             }
            },
            "header": {
             "fill": {
              "color": "#C8D4E3"
             },
             "line": {
              "color": "white"
             }
            },
            "type": "table"
           }
          ]
         },
         "layout": {
          "annotationdefaults": {
           "arrowcolor": "#2a3f5f",
           "arrowhead": 0,
           "arrowwidth": 1
          },
          "autotypenumbers": "strict",
          "coloraxis": {
           "colorbar": {
            "outlinewidth": 0,
            "ticks": ""
           }
          },
          "colorscale": {
           "diverging": [
            [
             0,
             "#8e0152"
            ],
            [
             0.1,
             "#c51b7d"
            ],
            [
             0.2,
             "#de77ae"
            ],
            [
             0.3,
             "#f1b6da"
            ],
            [
             0.4,
             "#fde0ef"
            ],
            [
             0.5,
             "#f7f7f7"
            ],
            [
             0.6,
             "#e6f5d0"
            ],
            [
             0.7,
             "#b8e186"
            ],
            [
             0.8,
             "#7fbc41"
            ],
            [
             0.9,
             "#4d9221"
            ],
            [
             1,
             "#276419"
            ]
           ],
           "sequential": [
            [
             0,
             "#0d0887"
            ],
            [
             0.1111111111111111,
             "#46039f"
            ],
            [
             0.2222222222222222,
             "#7201a8"
            ],
            [
             0.3333333333333333,
             "#9c179e"
            ],
            [
             0.4444444444444444,
             "#bd3786"
            ],
            [
             0.5555555555555556,
             "#d8576b"
            ],
            [
             0.6666666666666666,
             "#ed7953"
            ],
            [
             0.7777777777777778,
             "#fb9f3a"
            ],
            [
             0.8888888888888888,
             "#fdca26"
            ],
            [
             1,
             "#f0f921"
            ]
           ],
           "sequentialminus": [
            [
             0,
             "#0d0887"
            ],
            [
             0.1111111111111111,
             "#46039f"
            ],
            [
             0.2222222222222222,
             "#7201a8"
            ],
            [
             0.3333333333333333,
             "#9c179e"
            ],
            [
             0.4444444444444444,
             "#bd3786"
            ],
            [
             0.5555555555555556,
             "#d8576b"
            ],
            [
             0.6666666666666666,
             "#ed7953"
            ],
            [
             0.7777777777777778,
             "#fb9f3a"
            ],
            [
             0.8888888888888888,
             "#fdca26"
            ],
            [
             1,
             "#f0f921"
            ]
           ]
          },
          "colorway": [
           "#636efa",
           "#EF553B",
           "#00cc96",
           "#ab63fa",
           "#FFA15A",
           "#19d3f3",
           "#FF6692",
           "#B6E880",
           "#FF97FF",
           "#FECB52"
          ],
          "font": {
           "color": "#2a3f5f"
          },
          "geo": {
           "bgcolor": "white",
           "lakecolor": "white",
           "landcolor": "#E5ECF6",
           "showlakes": true,
           "showland": true,
           "subunitcolor": "white"
          },
          "hoverlabel": {
           "align": "left"
          },
          "hovermode": "closest",
          "mapbox": {
           "style": "light"
          },
          "paper_bgcolor": "white",
          "plot_bgcolor": "#E5ECF6",
          "polar": {
           "angularaxis": {
            "gridcolor": "white",
            "linecolor": "white",
            "ticks": ""
           },
           "bgcolor": "#E5ECF6",
           "radialaxis": {
            "gridcolor": "white",
            "linecolor": "white",
            "ticks": ""
           }
          },
          "scene": {
           "xaxis": {
            "backgroundcolor": "#E5ECF6",
            "gridcolor": "white",
            "gridwidth": 2,
            "linecolor": "white",
            "showbackground": true,
            "ticks": "",
            "zerolinecolor": "white"
           },
           "yaxis": {
            "backgroundcolor": "#E5ECF6",
            "gridcolor": "white",
            "gridwidth": 2,
            "linecolor": "white",
            "showbackground": true,
            "ticks": "",
            "zerolinecolor": "white"
           },
           "zaxis": {
            "backgroundcolor": "#E5ECF6",
            "gridcolor": "white",
            "gridwidth": 2,
            "linecolor": "white",
            "showbackground": true,
            "ticks": "",
            "zerolinecolor": "white"
           }
          },
          "shapedefaults": {
           "line": {
            "color": "#2a3f5f"
           }
          },
          "ternary": {
           "aaxis": {
            "gridcolor": "white",
            "linecolor": "white",
            "ticks": ""
           },
           "baxis": {
            "gridcolor": "white",
            "linecolor": "white",
            "ticks": ""
           },
           "bgcolor": "#E5ECF6",
           "caxis": {
            "gridcolor": "white",
            "linecolor": "white",
            "ticks": ""
           }
          },
          "title": {
           "x": 0.05
          },
          "xaxis": {
           "automargin": true,
           "gridcolor": "white",
           "linecolor": "white",
           "ticks": "",
           "title": {
            "standoff": 15
           },
           "zerolinecolor": "white",
           "zerolinewidth": 2
          },
          "yaxis": {
           "automargin": true,
           "gridcolor": "white",
           "linecolor": "white",
           "ticks": "",
           "title": {
            "standoff": 15
           },
           "zerolinecolor": "white",
           "zerolinewidth": 2
          }
         }
        },
        "title": {
         "text": "MARS ShineThrough Chart",
         "x": 0.05
        },
        "width": 1000,
        "xaxis": {
         "anchor": "y",
         "domain": [
          0,
          1
         ],
         "side": "top",
         "title": {
          "text": "x_axis"
         }
        },
        "yaxis": {
         "anchor": "x",
         "domain": [
          0,
          1
         ],
         "side": "left",
         "title": {
          "text": "y_axis"
         }
        }
       }
      },
      "text/html": [
       "<div>                            <div id=\"cb4bcdd1-19ef-4d3a-acb8-fcf433047355\" class=\"plotly-graph-div\" style=\"height:600px; width:1000px;\"></div>            <script type=\"text/javascript\">                require([\"plotly\"], function(Plotly) {                    window.PLOTLYENV=window.PLOTLYENV || {};                                    if (document.getElementById(\"cb4bcdd1-19ef-4d3a-acb8-fcf433047355\")) {                    Plotly.newPlot(                        \"cb4bcdd1-19ef-4d3a-acb8-fcf433047355\",                        [{\"customdata\":[[\"Exclusive TP found by classifier on x & y axis\"],[\"Exclusive TP found by classifier on x & y axis\"],[\"Exclusive TP found by classifier on x & y axis\"],[\"Exclusive TP found by classifier on x & y axis\"],[\"Exclusive TP found by classifier on x & y axis\"],[\"Exclusive TP found by classifier on x & y axis\"],[\"Exclusive TP found by classifier on x & y axis\"],[\"Exclusive TP found by classifier on x & y axis\"],[\"Exclusive TP found by classifier on x & y axis\"],[\"Exclusive TP found by classifier on x & y axis\"],[\"Exclusive TP found by classifier on x & y axis\"],[\"Exclusive TP found by classifier on x & y axis\"],[\"Exclusive TP found by classifier on x & y axis\"],[\"Exclusive TP found by classifier on x & y axis\"],[\"Exclusive TP found by classifier on x & y axis\"],[\"Exclusive TP found by classifier on x & y axis\"],[\"Exclusive TP found by classifier on x & y axis\"],[\"Exclusive TP found by classifier on x & y axis\"],[\"Exclusive TP found by classifier on x & y axis\"],[\"Exclusive TP found by classifier on x & y axis\"],[\"Exclusive TP found by classifier on x & y axis\"],[\"Exclusive TP found by classifier on x & y axis\"],[\"Exclusive TP found by classifier on x & y axis\"],[\"Exclusive TP found by classifier on x & y axis\"],[\"Exclusive TP found by classifier on x & y axis\"],[\"Exclusive TP found by classifier on x & y axis\"],[\"Exclusive TP found by classifier on x & y axis\"],[\"Exclusive TP found by classifier on x & y axis\"]],\"hovertemplate\":\"Color Significance=%{customdata[0]}<br>x_axis=%{x}<br>y_axis=%{y}<br>size=%{marker.size}<extra></extra>\",\"legendgroup\":\"Exclusive TP found by classifier on x & y axis\",\"marker\":{\"color\":\"orange\",\"opacity\":0.6,\"size\":[0.0,0.0,0.0,0.0,0.0,0.0,0.0,0.0,0.0,0.0,0.0,0.0,0.0,0.0,0.0,0.0,16.0,16.0,9.0,9.0,4.0,4.0,1.0,1.0,1.0,1.0,1.0,1.0],\"sizemode\":\"area\",\"sizeref\":0.0032653061224489797,\"symbol\":\"circle\"},\"mode\":\"markers\",\"name\":\"Exclusive TP found by classifier on x & y axis\",\"orientation\":\"v\",\"showlegend\":true,\"type\":\"scatter\",\"x\":[\"DecisionTree\",\"DecisionTree\",\"DecisionTree\",\"DecisionTree\",\"LogisticRegression\",\"LogisticRegression\",\"LogisticRegression\",\"LogisticRegression\",\"RandomForest\",\"RandomForest\",\"RandomForest\",\"RandomForest\",\"SVM\",\"SVM\",\"SVM\",\"SVM\",\"RandomForest\",\"SVM\",\"DecisionTree\",\"SVM\",\"LogisticRegression\",\"SVM\",\"DecisionTree\",\"DecisionTree\",\"LogisticRegression\",\"LogisticRegression\",\"RandomForest\",\"RandomForest\"],\"xaxis\":\"x\",\"y\":[\"SVM\",\"RandomForest\",\"LogisticRegression\",\"DecisionTree\",\"SVM\",\"RandomForest\",\"LogisticRegression\",\"DecisionTree\",\"SVM\",\"RandomForest\",\"LogisticRegression\",\"DecisionTree\",\"SVM\",\"RandomForest\",\"LogisticRegression\",\"DecisionTree\",\"SVM\",\"RandomForest\",\"SVM\",\"DecisionTree\",\"SVM\",\"LogisticRegression\",\"LogisticRegression\",\"RandomForest\",\"DecisionTree\",\"RandomForest\",\"DecisionTree\",\"LogisticRegression\"],\"yaxis\":\"y\"},{\"customdata\":[[\"Exclusive TP found by classifier on y axis\"],[\"Exclusive TP found by classifier on y axis\"],[\"Exclusive TP found by classifier on y axis\"],[\"Exclusive TP found by classifier on y axis\"],[\"Exclusive TP found by classifier on y axis\"],[\"Exclusive TP found by classifier on y axis\"],[\"Exclusive TP found by classifier on y axis\"],[\"Exclusive TP found by classifier on y axis\"],[\"Exclusive TP found by classifier on y axis\"],[\"Exclusive TP found by classifier on y axis\"],[\"Exclusive TP found by classifier on y axis\"],[\"Exclusive TP found by classifier on y axis\"]],\"hovertemplate\":\"Color Significance=%{customdata[0]}<br>x_axis=%{x}<br>y_axis=%{y}<br>size=%{marker.size}<extra></extra>\",\"legendgroup\":\"Exclusive TP found by classifier on y axis\",\"marker\":{\"color\":\"yellow\",\"opacity\":0.6,\"size\":[0.0,0.0,4.0,1.0,0.0,4.0,1.0,0.0,4.0,1.0,0.0,0.0],\"sizemode\":\"area\",\"sizeref\":0.0032653061224489797,\"symbol\":\"circle\"},\"mode\":\"markers\",\"name\":\"Exclusive TP found by classifier on y axis\",\"orientation\":\"v\",\"showlegend\":true,\"type\":\"scatter\",\"x\":[\"DecisionTree\",\"DecisionTree\",\"DecisionTree\",\"LogisticRegression\",\"LogisticRegression\",\"LogisticRegression\",\"RandomForest\",\"RandomForest\",\"RandomForest\",\"SVM\",\"SVM\",\"SVM\"],\"xaxis\":\"x\",\"y\":[\"LogisticRegression\",\"RandomForest\",\"SVM\",\"DecisionTree\",\"RandomForest\",\"SVM\",\"DecisionTree\",\"LogisticRegression\",\"SVM\",\"DecisionTree\",\"LogisticRegression\",\"RandomForest\"],\"yaxis\":\"y\"}],                        {\"height\":600,\"legend\":{\"itemsizing\":\"constant\",\"orientation\":\"h\",\"title\":{\"text\":\"Color Significance\"},\"tracegroupgap\":0,\"x\":0.1,\"xanchor\":\"left\",\"y\":0,\"yanchor\":\"top\"},\"margin\":{\"t\":60},\"template\":{\"data\":{\"bar\":[{\"error_x\":{\"color\":\"#2a3f5f\"},\"error_y\":{\"color\":\"#2a3f5f\"},\"marker\":{\"line\":{\"color\":\"#E5ECF6\",\"width\":0.5},\"pattern\":{\"fillmode\":\"overlay\",\"size\":10,\"solidity\":0.2}},\"type\":\"bar\"}],\"barpolar\":[{\"marker\":{\"line\":{\"color\":\"#E5ECF6\",\"width\":0.5},\"pattern\":{\"fillmode\":\"overlay\",\"size\":10,\"solidity\":0.2}},\"type\":\"barpolar\"}],\"carpet\":[{\"aaxis\":{\"endlinecolor\":\"#2a3f5f\",\"gridcolor\":\"white\",\"linecolor\":\"white\",\"minorgridcolor\":\"white\",\"startlinecolor\":\"#2a3f5f\"},\"baxis\":{\"endlinecolor\":\"#2a3f5f\",\"gridcolor\":\"white\",\"linecolor\":\"white\",\"minorgridcolor\":\"white\",\"startlinecolor\":\"#2a3f5f\"},\"type\":\"carpet\"}],\"choropleth\":[{\"colorbar\":{\"outlinewidth\":0,\"ticks\":\"\"},\"type\":\"choropleth\"}],\"contour\":[{\"colorbar\":{\"outlinewidth\":0,\"ticks\":\"\"},\"colorscale\":[[0.0,\"#0d0887\"],[0.1111111111111111,\"#46039f\"],[0.2222222222222222,\"#7201a8\"],[0.3333333333333333,\"#9c179e\"],[0.4444444444444444,\"#bd3786\"],[0.5555555555555556,\"#d8576b\"],[0.6666666666666666,\"#ed7953\"],[0.7777777777777778,\"#fb9f3a\"],[0.8888888888888888,\"#fdca26\"],[1.0,\"#f0f921\"]],\"type\":\"contour\"}],\"contourcarpet\":[{\"colorbar\":{\"outlinewidth\":0,\"ticks\":\"\"},\"type\":\"contourcarpet\"}],\"heatmap\":[{\"colorbar\":{\"outlinewidth\":0,\"ticks\":\"\"},\"colorscale\":[[0.0,\"#0d0887\"],[0.1111111111111111,\"#46039f\"],[0.2222222222222222,\"#7201a8\"],[0.3333333333333333,\"#9c179e\"],[0.4444444444444444,\"#bd3786\"],[0.5555555555555556,\"#d8576b\"],[0.6666666666666666,\"#ed7953\"],[0.7777777777777778,\"#fb9f3a\"],[0.8888888888888888,\"#fdca26\"],[1.0,\"#f0f921\"]],\"type\":\"heatmap\"}],\"heatmapgl\":[{\"colorbar\":{\"outlinewidth\":0,\"ticks\":\"\"},\"colorscale\":[[0.0,\"#0d0887\"],[0.1111111111111111,\"#46039f\"],[0.2222222222222222,\"#7201a8\"],[0.3333333333333333,\"#9c179e\"],[0.4444444444444444,\"#bd3786\"],[0.5555555555555556,\"#d8576b\"],[0.6666666666666666,\"#ed7953\"],[0.7777777777777778,\"#fb9f3a\"],[0.8888888888888888,\"#fdca26\"],[1.0,\"#f0f921\"]],\"type\":\"heatmapgl\"}],\"histogram\":[{\"marker\":{\"pattern\":{\"fillmode\":\"overlay\",\"size\":10,\"solidity\":0.2}},\"type\":\"histogram\"}],\"histogram2d\":[{\"colorbar\":{\"outlinewidth\":0,\"ticks\":\"\"},\"colorscale\":[[0.0,\"#0d0887\"],[0.1111111111111111,\"#46039f\"],[0.2222222222222222,\"#7201a8\"],[0.3333333333333333,\"#9c179e\"],[0.4444444444444444,\"#bd3786\"],[0.5555555555555556,\"#d8576b\"],[0.6666666666666666,\"#ed7953\"],[0.7777777777777778,\"#fb9f3a\"],[0.8888888888888888,\"#fdca26\"],[1.0,\"#f0f921\"]],\"type\":\"histogram2d\"}],\"histogram2dcontour\":[{\"colorbar\":{\"outlinewidth\":0,\"ticks\":\"\"},\"colorscale\":[[0.0,\"#0d0887\"],[0.1111111111111111,\"#46039f\"],[0.2222222222222222,\"#7201a8\"],[0.3333333333333333,\"#9c179e\"],[0.4444444444444444,\"#bd3786\"],[0.5555555555555556,\"#d8576b\"],[0.6666666666666666,\"#ed7953\"],[0.7777777777777778,\"#fb9f3a\"],[0.8888888888888888,\"#fdca26\"],[1.0,\"#f0f921\"]],\"type\":\"histogram2dcontour\"}],\"mesh3d\":[{\"colorbar\":{\"outlinewidth\":0,\"ticks\":\"\"},\"type\":\"mesh3d\"}],\"parcoords\":[{\"line\":{\"colorbar\":{\"outlinewidth\":0,\"ticks\":\"\"}},\"type\":\"parcoords\"}],\"pie\":[{\"automargin\":true,\"type\":\"pie\"}],\"scatter\":[{\"marker\":{\"colorbar\":{\"outlinewidth\":0,\"ticks\":\"\"}},\"type\":\"scatter\"}],\"scatter3d\":[{\"line\":{\"colorbar\":{\"outlinewidth\":0,\"ticks\":\"\"}},\"marker\":{\"colorbar\":{\"outlinewidth\":0,\"ticks\":\"\"}},\"type\":\"scatter3d\"}],\"scattercarpet\":[{\"marker\":{\"colorbar\":{\"outlinewidth\":0,\"ticks\":\"\"}},\"type\":\"scattercarpet\"}],\"scattergeo\":[{\"marker\":{\"colorbar\":{\"outlinewidth\":0,\"ticks\":\"\"}},\"type\":\"scattergeo\"}],\"scattergl\":[{\"marker\":{\"colorbar\":{\"outlinewidth\":0,\"ticks\":\"\"}},\"type\":\"scattergl\"}],\"scattermapbox\":[{\"marker\":{\"colorbar\":{\"outlinewidth\":0,\"ticks\":\"\"}},\"type\":\"scattermapbox\"}],\"scatterpolar\":[{\"marker\":{\"colorbar\":{\"outlinewidth\":0,\"ticks\":\"\"}},\"type\":\"scatterpolar\"}],\"scatterpolargl\":[{\"marker\":{\"colorbar\":{\"outlinewidth\":0,\"ticks\":\"\"}},\"type\":\"scatterpolargl\"}],\"scatterternary\":[{\"marker\":{\"colorbar\":{\"outlinewidth\":0,\"ticks\":\"\"}},\"type\":\"scatterternary\"}],\"surface\":[{\"colorbar\":{\"outlinewidth\":0,\"ticks\":\"\"},\"colorscale\":[[0.0,\"#0d0887\"],[0.1111111111111111,\"#46039f\"],[0.2222222222222222,\"#7201a8\"],[0.3333333333333333,\"#9c179e\"],[0.4444444444444444,\"#bd3786\"],[0.5555555555555556,\"#d8576b\"],[0.6666666666666666,\"#ed7953\"],[0.7777777777777778,\"#fb9f3a\"],[0.8888888888888888,\"#fdca26\"],[1.0,\"#f0f921\"]],\"type\":\"surface\"}],\"table\":[{\"cells\":{\"fill\":{\"color\":\"#EBF0F8\"},\"line\":{\"color\":\"white\"}},\"header\":{\"fill\":{\"color\":\"#C8D4E3\"},\"line\":{\"color\":\"white\"}},\"type\":\"table\"}]},\"layout\":{\"annotationdefaults\":{\"arrowcolor\":\"#2a3f5f\",\"arrowhead\":0,\"arrowwidth\":1},\"autotypenumbers\":\"strict\",\"coloraxis\":{\"colorbar\":{\"outlinewidth\":0,\"ticks\":\"\"}},\"colorscale\":{\"diverging\":[[0,\"#8e0152\"],[0.1,\"#c51b7d\"],[0.2,\"#de77ae\"],[0.3,\"#f1b6da\"],[0.4,\"#fde0ef\"],[0.5,\"#f7f7f7\"],[0.6,\"#e6f5d0\"],[0.7,\"#b8e186\"],[0.8,\"#7fbc41\"],[0.9,\"#4d9221\"],[1,\"#276419\"]],\"sequential\":[[0.0,\"#0d0887\"],[0.1111111111111111,\"#46039f\"],[0.2222222222222222,\"#7201a8\"],[0.3333333333333333,\"#9c179e\"],[0.4444444444444444,\"#bd3786\"],[0.5555555555555556,\"#d8576b\"],[0.6666666666666666,\"#ed7953\"],[0.7777777777777778,\"#fb9f3a\"],[0.8888888888888888,\"#fdca26\"],[1.0,\"#f0f921\"]],\"sequentialminus\":[[0.0,\"#0d0887\"],[0.1111111111111111,\"#46039f\"],[0.2222222222222222,\"#7201a8\"],[0.3333333333333333,\"#9c179e\"],[0.4444444444444444,\"#bd3786\"],[0.5555555555555556,\"#d8576b\"],[0.6666666666666666,\"#ed7953\"],[0.7777777777777778,\"#fb9f3a\"],[0.8888888888888888,\"#fdca26\"],[1.0,\"#f0f921\"]]},\"colorway\":[\"#636efa\",\"#EF553B\",\"#00cc96\",\"#ab63fa\",\"#FFA15A\",\"#19d3f3\",\"#FF6692\",\"#B6E880\",\"#FF97FF\",\"#FECB52\"],\"font\":{\"color\":\"#2a3f5f\"},\"geo\":{\"bgcolor\":\"white\",\"lakecolor\":\"white\",\"landcolor\":\"#E5ECF6\",\"showlakes\":true,\"showland\":true,\"subunitcolor\":\"white\"},\"hoverlabel\":{\"align\":\"left\"},\"hovermode\":\"closest\",\"mapbox\":{\"style\":\"light\"},\"paper_bgcolor\":\"white\",\"plot_bgcolor\":\"#E5ECF6\",\"polar\":{\"angularaxis\":{\"gridcolor\":\"white\",\"linecolor\":\"white\",\"ticks\":\"\"},\"bgcolor\":\"#E5ECF6\",\"radialaxis\":{\"gridcolor\":\"white\",\"linecolor\":\"white\",\"ticks\":\"\"}},\"scene\":{\"xaxis\":{\"backgroundcolor\":\"#E5ECF6\",\"gridcolor\":\"white\",\"gridwidth\":2,\"linecolor\":\"white\",\"showbackground\":true,\"ticks\":\"\",\"zerolinecolor\":\"white\"},\"yaxis\":{\"backgroundcolor\":\"#E5ECF6\",\"gridcolor\":\"white\",\"gridwidth\":2,\"linecolor\":\"white\",\"showbackground\":true,\"ticks\":\"\",\"zerolinecolor\":\"white\"},\"zaxis\":{\"backgroundcolor\":\"#E5ECF6\",\"gridcolor\":\"white\",\"gridwidth\":2,\"linecolor\":\"white\",\"showbackground\":true,\"ticks\":\"\",\"zerolinecolor\":\"white\"}},\"shapedefaults\":{\"line\":{\"color\":\"#2a3f5f\"}},\"ternary\":{\"aaxis\":{\"gridcolor\":\"white\",\"linecolor\":\"white\",\"ticks\":\"\"},\"baxis\":{\"gridcolor\":\"white\",\"linecolor\":\"white\",\"ticks\":\"\"},\"bgcolor\":\"#E5ECF6\",\"caxis\":{\"gridcolor\":\"white\",\"linecolor\":\"white\",\"ticks\":\"\"}},\"title\":{\"x\":0.05},\"xaxis\":{\"automargin\":true,\"gridcolor\":\"white\",\"linecolor\":\"white\",\"ticks\":\"\",\"title\":{\"standoff\":15},\"zerolinecolor\":\"white\",\"zerolinewidth\":2},\"yaxis\":{\"automargin\":true,\"gridcolor\":\"white\",\"linecolor\":\"white\",\"ticks\":\"\",\"title\":{\"standoff\":15},\"zerolinecolor\":\"white\",\"zerolinewidth\":2}}},\"title\":{\"text\":\"MARS ShineThrough Chart\",\"x\":0.05},\"width\":1000,\"xaxis\":{\"anchor\":\"y\",\"domain\":[0.0,1.0],\"side\":\"top\",\"title\":{\"text\":\"x_axis\"}},\"yaxis\":{\"anchor\":\"x\",\"domain\":[0.0,1.0],\"side\":\"left\",\"title\":{\"text\":\"y_axis\"}}},                        {\"responsive\": true}                    ).then(function(){\n",
       "                            \n",
       "var gd = document.getElementById('cb4bcdd1-19ef-4d3a-acb8-fcf433047355');\n",
       "var x = new MutationObserver(function (mutations, observer) {{\n",
       "        var display = window.getComputedStyle(gd).display;\n",
       "        if (!display || display === 'none') {{\n",
       "            console.log([gd, 'removed!']);\n",
       "            Plotly.purge(gd);\n",
       "            observer.disconnect();\n",
       "        }}\n",
       "}});\n",
       "\n",
       "// Listen for the removal of the full notebook cells\n",
       "var notebookContainer = gd.closest('#notebook-container');\n",
       "if (notebookContainer) {{\n",
       "    x.observe(notebookContainer, {childList: true});\n",
       "}}\n",
       "\n",
       "// Listen for the clearing of the current output cell\n",
       "var outputEl = gd.closest('.output');\n",
       "if (outputEl) {{\n",
       "    x.observe(outputEl, {childList: true});\n",
       "}}\n",
       "\n",
       "                        })                };                });            </script>        </div>"
      ]
     },
     "metadata": {},
     "output_type": "display_data"
    }
   ],
   "source": [
    "import pandas as pd\n",
    "import plotly.express as px\n",
    "def main():\n",
    "    df = pd.read_csv('classification_breast_cancer_dataset.csv')\n",
    "    total_classifiers = df['classifier'].nunique()\n",
    "    k=(df.shape[0])/total_classifiers\n",
    "    Shinethrough(df, k)\n",
    "    Occlusion(df, k)\n",
    "if __name__ == \"__main__\":\n",
    "    main()"
   ]
  }
 ],
 "metadata": {
  "kernelspec": {
   "display_name": "Python 3",
   "language": "python",
   "name": "python3"
  },
  "language_info": {
   "codemirror_mode": {
    "name": "ipython",
    "version": 3
   },
   "file_extension": ".py",
   "mimetype": "text/x-python",
   "name": "python",
   "nbconvert_exporter": "python",
   "pygments_lexer": "ipython3",
   "version": "3.8.5"
  }
 },
 "nbformat": 4,
 "nbformat_minor": 4
}
